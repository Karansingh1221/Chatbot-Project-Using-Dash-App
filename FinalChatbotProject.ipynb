{
  "nbformat": 4,
  "nbformat_minor": 0,
  "metadata": {
    "colab": {
      "provenance": [],
      "authorship_tag": "ABX9TyNOyoaTZjun+FfvLahEP29l",
      "include_colab_link": true
    },
    "kernelspec": {
      "name": "python3",
      "display_name": "Python 3"
    },
    "language_info": {
      "name": "python"
    }
  },
  "cells": [
    {
      "cell_type": "markdown",
      "metadata": {
        "id": "view-in-github",
        "colab_type": "text"
      },
      "source": [
        "<a href=\"https://colab.research.google.com/github/Karansingh1221/Chatbot-Project-Using-Dash-App/blob/main/FinalChatbotProject.ipynb\" target=\"_parent\"><img src=\"https://colab.research.google.com/assets/colab-badge.svg\" alt=\"Open In Colab\"/></a>"
      ]
    },
    {
      "cell_type": "code",
      "execution_count": 1,
      "metadata": {
        "colab": {
          "base_uri": "https://localhost:8080/",
          "height": 724
        },
        "id": "17vKCwKNsN12",
        "outputId": "c79b00cf-6b8c-4b70-a53a-b2a3fff992ef"
      },
      "outputs": [
        {
          "output_type": "stream",
          "name": "stdout",
          "text": [
            "\u001b[?25l   \u001b[90m━━━━━━━━━━━━━━━━━━━━━━━━━━━━━━━━━━━━━━━━\u001b[0m \u001b[32m0.0/7.5 MB\u001b[0m \u001b[31m?\u001b[0m eta \u001b[36m-:--:--\u001b[0m\r\u001b[2K   \u001b[91m━━━━━━━━━━━\u001b[0m\u001b[90m╺\u001b[0m\u001b[90m━━━━━━━━━━━━━━━━━━━━━━━━━━━━\u001b[0m \u001b[32m2.2/7.5 MB\u001b[0m \u001b[31m64.0 MB/s\u001b[0m eta \u001b[36m0:00:01\u001b[0m\r\u001b[2K   \u001b[91m━━━━━━━━━━━━━━━━━━━━━━━━━━━━━━━━━━━\u001b[0m\u001b[90m╺\u001b[0m\u001b[90m━━━━\u001b[0m \u001b[32m6.6/7.5 MB\u001b[0m \u001b[31m94.8 MB/s\u001b[0m eta \u001b[36m0:00:01\u001b[0m\r\u001b[2K   \u001b[91m━━━━━━━━━━━━━━━━━━━━━━━━━━━━━━━━━━━━━━━\u001b[0m\u001b[91m╸\u001b[0m \u001b[32m7.5/7.5 MB\u001b[0m \u001b[31m96.0 MB/s\u001b[0m eta \u001b[36m0:00:01\u001b[0m\r\u001b[2K   \u001b[90m━━━━━━━━━━━━━━━━━━━━━━━━━━━━━━━━━━━━━━━━\u001b[0m \u001b[32m7.5/7.5 MB\u001b[0m \u001b[31m67.9 MB/s\u001b[0m eta \u001b[36m0:00:00\u001b[0m\n",
            "\u001b[?25h"
          ]
        },
        {
          "output_type": "stream",
          "name": "stderr",
          "text": [
            "[nltk_data] Downloading package punkt to /root/nltk_data...\n",
            "[nltk_data]   Unzipping tokenizers/punkt.zip.\n"
          ]
        },
        {
          "output_type": "display_data",
          "data": {
            "text/plain": [
              "<IPython.core.display.Javascript object>"
            ],
            "application/javascript": [
              "(async (port, path, width, height, cache, element) => {\n",
              "    if (!google.colab.kernel.accessAllowed && !cache) {\n",
              "      return;\n",
              "    }\n",
              "    element.appendChild(document.createTextNode(''));\n",
              "    const url = await google.colab.kernel.proxyPort(port, {cache});\n",
              "    const iframe = document.createElement('iframe');\n",
              "    iframe.src = new URL(path, url).toString();\n",
              "    iframe.height = height;\n",
              "    iframe.width = width;\n",
              "    iframe.style.border = 0;\n",
              "    iframe.allow = [\n",
              "        'accelerometer',\n",
              "        'autoplay',\n",
              "        'camera',\n",
              "        'clipboard-read',\n",
              "        'clipboard-write',\n",
              "        'gyroscope',\n",
              "        'magnetometer',\n",
              "        'microphone',\n",
              "        'serial',\n",
              "        'usb',\n",
              "        'xr-spatial-tracking',\n",
              "    ].join('; ');\n",
              "    element.appendChild(iframe);\n",
              "  })(8050, \"/\", \"100%\", 650, false, window.element)"
            ]
          },
          "metadata": {}
        }
      ],
      "source": [
        "import pandas as pd\n",
        "import nltk\n",
        "from sklearn.feature_extraction.text import TfidfVectorizer\n",
        "from sklearn.naive_bayes import MultinomialNB\n",
        "from sklearn.pipeline import make_pipeline\n",
        "from sklearn.model_selection import train_test_split\n",
        "!pip install -q dash dash-core-components dash-html-components dash-table\n",
        "import dash\n",
        "from dash import dcc,html\n",
        "from dash.dependencies import Input,Output\n",
        "import random\n",
        "\n",
        "\n",
        "data=pd.read_csv('chatbot_dataset.csv')\n",
        "\n",
        "nltk.download('punkt')\n",
        "data['Question']=data['Question'].apply(lambda x:' '.join(nltk.word_tokenize(x.lower())))\n",
        "\n",
        "x_train,x_test,y_train,y_test=train_test_split(data['Question'],data['Answer'],test_size=0.2,random_state=42)\n",
        "model=make_pipeline(TfidfVectorizer(),MultinomialNB())\n",
        "model.fit(x_train,y_train)\n",
        "\n",
        "def get_response(question):\n",
        "  question=' '.join(nltk.word_tokenize(question.lower()))\n",
        "  answer=model.predict([question])\n",
        "  return answer\n",
        "\n",
        "\n",
        "app=dash.Dash(__name__)\n",
        "\n",
        "app.layout=html.Div([\n",
        "      html.H1(\"Chatbot\",style={'textAlign':'center'}),\n",
        "      dcc.Textarea(\n",
        "          id='user-input',\n",
        "          value='Type your question here...',\n",
        "          style={'width':'100%','height':'100px'}\n",
        "    ),\n",
        "      html.Button('Submit',id='submit-button',n_clicks=0),\n",
        "      html.Div(id='chatbot-output',style={'padding':'10px'})\n",
        "\n",
        "])\n",
        "\n",
        "\n",
        "@app.callback(\n",
        "    Output('chatbot-output','children'),\n",
        "    Input('submit-button','n_clicks'),\n",
        "    [dash.dependencies.State('user-input','value')]\n",
        ")\n",
        "\n",
        "def update_output(n_clicks,user_input):\n",
        "  if n_clicks>0:\n",
        "    response=get_response(user_input)\n",
        "    return html.Div([\n",
        "        html.P(f\"you: {user_input}\",style={'mqrgin': '10px'}),\n",
        "        html.P(f\"Bot: {response}\",style={'margin':'10px','backgroundColor':'#f0f0f0','padding':'10px'})\n",
        "    ])\n",
        "  return \"Ask me something\"\n",
        "\n",
        "if __name__=='__main__':\n",
        "  app.run_server(debug=True)\n",
        "\n",
        "\n",
        "\n",
        "\n"
      ]
    }
  ]
}